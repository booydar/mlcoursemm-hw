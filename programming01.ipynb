{
 "cells": [
  {
   "cell_type": "markdown",
   "metadata": {},
   "source": [
    "## Лаборатоная работа №1"
   ]
  },
  {
   "cell_type": "markdown",
   "metadata": {},
   "source": [
    "Фамилия: Булатов \n",
    "    \n",
    "Имя: Айдар\n",
    "    \n",
    "Отчество: Салаватович\n",
    "    \n",
    "ВУЗ: МГУ\n",
    "    \n",
    "Факультет: мехмат\n",
    "    \n",
    "Курс: 5\n",
    "    \n",
    "Кафедра: механики композитов\n",
    "    \n",
    "Научный руководитель: П.Н.Демидович"
   ]
  },
  {
   "cell_type": "markdown",
   "metadata": {},
   "source": [
    "### Введение в Keras"
   ]
  },
  {
   "cell_type": "markdown",
   "metadata": {},
   "source": [
    "Цели лабораторной работы: \n",
    "- разобраться с интерфейсом слоёв, участвующих в построении нейронной сети\n",
    "- научиться обучать нейронные сети"
   ]
  },
  {
   "cell_type": "code",
   "execution_count": 3,
   "metadata": {},
   "outputs": [
    {
     "name": "stdout",
     "output_type": "stream",
     "text": [
      "2.2.4\n",
      "1.14.0\n"
     ]
    }
   ],
   "source": [
    "import numpy as np\n",
    "np.random.seed(123)  # for reproducibility\n",
    " \n",
    "from keras.models import Sequential, Model\n",
    "from keras.layers import Dense, Dropout, Activation, Flatten, Input, BatchNormalization\n",
    "from keras.layers import Convolution2D, Conv2D, MaxPooling2D, Conv1D\n",
    "from keras.utils import np_utils\n",
    "from keras.datasets import mnist\n",
    " \n",
    "import matplotlib.pyplot as plt\n",
    "import tensorflow as tf\n",
    "import keras\n",
    "\n",
    "print(keras.__version__)\n",
    "print(tf.__version__)"
   ]
  },
  {
   "cell_type": "markdown",
   "metadata": {},
   "source": [
    "#### Подготовка данных"
   ]
  },
  {
   "cell_type": "code",
   "execution_count": 2,
   "metadata": {},
   "outputs": [
    {
     "name": "stdout",
     "output_type": "stream",
     "text": [
      "(60000, 28, 28) (60000,) (10000, 28, 28) (10000,)\n"
     ]
    },
    {
     "data": {
      "image/png": "[encoded data removed]",
      "text/plain": [
       "<Figure size 432x288 with 1 Axes>"
      ]
     },
     "metadata": {
      "needs_background": "light"
     },
     "output_type": "display_data"
    },
    {
     "name": "stdout",
     "output_type": "stream",
     "text": [
      "1.0 0.0 float32\n",
      "[0. 0. 0. 0. 0. 0. 0. 0. 0. 1.]\n",
      "9\n"
     ]
    }
   ],
   "source": [
    "(X_train, y_train), (X_test, y_test) = mnist.load_data()\n",
    "print(X_train.shape, y_train.shape, X_test.shape, y_test.shape)\n",
    "\n",
    "X_train = X_train.reshape(X_train.shape[0], 1, 28, 28)\n",
    "X_test = X_test.reshape(X_test.shape[0], 1, 28, 28)\n",
    "X_train = X_train.astype('float32')\n",
    "X_test = X_test.astype('float32')\n",
    "X_train /= 255\n",
    "X_test /= 255\n",
    " \n",
    "\n",
    "Y_train = np_utils.to_categorical(y_train, 10)\n",
    "Y_test = np_utils.to_categorical(y_test, 10)\n",
    "\n",
    "index = 14888\n",
    "plt.imshow(X_train[index,0, :,:])\n",
    "plt.show()\n",
    "\n",
    "print(np.max(X_train[index,0, :,:]), np.min(X_train[index,0, :,:]), np.dtype(np.max(X_train[index,0, :,:])))\n",
    "print(Y_train[index])\n",
    "print(np.argmax(Y_train[index]))"
   ]
  },
  {
   "cell_type": "markdown",
   "metadata": {},
   "source": [
    "#### 1. (1 балл) Обучите простейшую однослойную нейронную сеть. Какой максимальный результат на тесте вам удалось достичь? Параметры обучения можно менять"
   ]
  },
  {
   "cell_type": "code",
   "execution_count": 6,
   "metadata": {},
   "outputs": [],
   "source": [
    "# from sklearn.model_selection import ParameterGrid as PG\n",
    "\n",
    "#\n",
    "# params = PG({'validation_split': val_splits, 'batch_size': batch_sizes})"
   ]
  },
  {
   "cell_type": "markdown",
   "metadata": {},
   "source": [
    "### ваша точность на тесте \n",
    "## 0.9272\n"
   ]
  },
  {
   "cell_type": "code",
   "execution_count": 10,
   "metadata": {
    "scrolled": true
   },
   "outputs": [
    {
     "name": "stderr",
     "output_type": "stream",
     "text": [
      "/home/ayd98/anaconda3/lib/python3.7/site-packages/ipykernel_launcher.py:11: UserWarning: The `nb_epoch` argument in `fit` has been renamed `epochs`.\n",
      "  # This is added back by InteractiveShellApp.init_path()\n"
     ]
    },
    {
     "name": "stdout",
     "output_type": "stream",
     "text": [
      "Train on 54000 samples, validate on 6000 samples\n",
      "Epoch 1/10\n",
      "54000/54000 [==============================] - 13s 236us/step - loss: 0.4533 - acc: 0.8792 - val_loss: 0.2586 - val_acc: 0.9278\n",
      "Epoch 2/10\n",
      "54000/54000 [==============================] - 7s 122us/step - loss: 0.3045 - acc: 0.9147 - val_loss: 0.2457 - val_acc: 0.9333\n",
      "Epoch 3/10\n",
      "54000/54000 [==============================] - 10s 179us/step - loss: 0.2850 - acc: 0.9203 - val_loss: 0.2347 - val_acc: 0.9353\n",
      "Epoch 4/10\n",
      "54000/54000 [==============================] - 17s 311us/step - loss: 0.2764 - acc: 0.9227 - val_loss: 0.2306 - val_acc: 0.9353\n",
      "Epoch 5/10\n",
      "54000/54000 [==============================] - 12s 215us/step - loss: 0.2697 - acc: 0.9244 - val_loss: 0.2283 - val_acc: 0.9388\n",
      "Epoch 6/10\n",
      "54000/54000 [==============================] - 8s 146us/step - loss: 0.2654 - acc: 0.9259 - val_loss: 0.2257 - val_acc: 0.9372\n",
      "Epoch 7/10\n",
      "54000/54000 [==============================] - 8s 154us/step - loss: 0.2617 - acc: 0.9277 - val_loss: 0.2226 - val_acc: 0.9390\n",
      "Epoch 8/10\n",
      "54000/54000 [==============================] - 16s 300us/step - loss: 0.2589 - acc: 0.9281 - val_loss: 0.2239 - val_acc: 0.9392\n",
      "Epoch 9/10\n",
      "54000/54000 [==============================] - 7s 124us/step - loss: 0.2562 - acc: 0.9284 - val_loss: 0.2269 - val_acc: 0.9373\n",
      "Epoch 10/10\n",
      "54000/54000 [==============================] - 9s 158us/step - loss: 0.2544 - acc: 0.9289 - val_loss: 0.2231 - val_acc: 0.9392\n",
      "0.9271\n"
     ]
    }
   ],
   "source": [
    "# код, на котором достигается эта точность\n",
    "input_image = Input(shape=(1, 28, 28))\n",
    "flatten = Flatten()(input_image)\n",
    "dense2 = Dense(10, activation='softmax')(flatten)\n",
    "model = Model(inputs=input_image, outputs=dense2)\n",
    "\n",
    "#код обучения разрешается исправлять\n",
    "model.compile(loss='categorical_crossentropy',\n",
    "              optimizer='Adam',\n",
    "              metrics=['accuracy'])\n",
    "model.fit(X_train, Y_train, validation_split=0.05, batch_size=20, nb_epoch=10, verbose=1)\n",
    "score = model.evaluate(X_test, Y_test, verbose=0)\n",
    "print(score[1])"
   ]
  },
  {
   "cell_type": "markdown",
   "metadata": {},
   "source": [
    "### поиск оптимальных параметров:"
   ]
  },
  {
   "cell_type": "code",
   "execution_count": 5,
   "metadata": {
    "scrolled": false
   },
   "outputs": [
    {
     "data": {
      "image/png": "[encoded data removed]",
      "text/plain": [
       "<Figure size 1152x576 with 1 Axes>"
      ]
     },
     "metadata": {
      "needs_background": "light"
     },
     "output_type": "display_data"
    }
   ],
   "source": [
    "val_splits = [0.05, 0.1, 0.2, 0.3]\n",
    "batch_sizes = [2, 16, 32, 64, 128]\n",
    "\n",
    "\n",
    "input_image = Input(shape=(1, 28, 28))\n",
    "flatten = Flatten()(input_image)\n",
    "\n",
    "accs = []\n",
    "for validation_split in val_splits:\n",
    "    acc_split = []\n",
    "    for batch_size in batch_sizes:\n",
    "        dense2 = Dense(10, activation='softmax')(flatten)\n",
    "        model = Model(inputs=input_image, outputs=dense2)\n",
    "\n",
    "        model.compile(loss='categorical_crossentropy',\n",
    "                      optimizer='Adam',\n",
    "                      metrics=['accuracy'])\n",
    "        model.fit(X_train, Y_train, validation_split=validation_split, batch_size=batch_size, epochs=4, verbose=0)\n",
    "        score = model.evaluate(X_test, Y_test, verbose=0)\n",
    "\n",
    "        acc_split.append(score[1])\n",
    "    \n",
    "    accs.append(acc_split)\n",
    "    \n",
    "plt.figure(figsize = (16,8))\n",
    "for acc in accs:\n",
    "    plt.plot(batch_sizes, acc)\n",
    "    \n",
    "plt.gca().legend(val_splits)\n",
    "plt.show()"
   ]
  },
  {
   "cell_type": "code",
   "execution_count": 7,
   "metadata": {},
   "outputs": [],
   "source": [
    "# # val_splits = np.linspace(0.6, 0.8, 4)\n",
    "# val_splits = [0.2]\n",
    "# batch_sizes = np.linspace(10, 200, 20).astype(int)\n",
    "\n",
    "# input_image = Input(shape=(1, 28, 28))\n",
    "# flatten = Flatten()(input_image)\n",
    "\n",
    "# accs = []\n",
    "# for validation_split in val_splits:\n",
    "#     for batch_size in batch_sizes:\n",
    "#         dense2 = Dense(10, activation='softmax')(flatten)\n",
    "#         model = Model(inputs=input_image, outputs=dense2)\n",
    "\n",
    "#         model.compile(loss='categorical_crossentropy',\n",
    "#                       optimizer='Adam',\n",
    "#                       metrics=['accuracy'])\n",
    "#         model.fit(X_train, Y_train, validation_split=validation_split, batch_size=batch_size, epochs=4, verbose=0)\n",
    "#         score = model.evaluate(X_test, Y_test, verbose=0)\n",
    "#         accs.append(score[1])\n",
    "        \n",
    "#         print(\"batch_size = \", batch_size, \", val_split = \", validation_split,\n",
    "#               \", score = \", score[0], \", acc = \", score[1])\n",
    "        \n",
    "# plt.plot(batch_sizes, accs)\n",
    "# print(\"optimal batch sizes: \", batch_sizes[np.argsort(accs)[-5:]][::-1])"
   ]
  },
  {
   "cell_type": "markdown",
   "metadata": {},
   "source": [
    "#### 2. (2 балла) Обучите двуслойную полносвязную сеть. Какой максимальный результат на тесте вам удалось достичь?"
   ]
  },
  {
   "cell_type": "markdown",
   "metadata": {},
   "source": [
    "### ваша точность на тесте \n",
    "## 0.9763"
   ]
  },
  {
   "cell_type": "code",
   "execution_count": 12,
   "metadata": {
    "scrolled": true
   },
   "outputs": [
    {
     "name": "stdout",
     "output_type": "stream",
     "text": [
      "Train on 57000 samples, validate on 3000 samples\n",
      "Epoch 1/10\n",
      "57000/57000 [==============================] - 7s 127us/step - loss: 0.2876 - acc: 0.9230 - val_loss: 0.1198 - val_acc: 0.9643\n",
      "Epoch 2/10\n",
      "57000/57000 [==============================] - 6s 107us/step - loss: 0.1269 - acc: 0.9630 - val_loss: 0.0835 - val_acc: 0.9780\n",
      "Epoch 3/10\n",
      "57000/57000 [==============================] - 6s 107us/step - loss: 0.0889 - acc: 0.9745 - val_loss: 0.0687 - val_acc: 0.9823\n",
      "Epoch 4/10\n",
      "57000/57000 [==============================] - 6s 108us/step - loss: 0.0676 - acc: 0.9806 - val_loss: 0.0701 - val_acc: 0.9800\n",
      "Epoch 5/10\n",
      "57000/57000 [==============================] - 6s 111us/step - loss: 0.0528 - acc: 0.9851 - val_loss: 0.0666 - val_acc: 0.9810\n",
      "Epoch 6/10\n",
      "57000/57000 [==============================] - 6s 112us/step - loss: 0.0428 - acc: 0.9882 - val_loss: 0.0658 - val_acc: 0.9793\n",
      "Epoch 7/10\n",
      "57000/57000 [==============================] - 7s 116us/step - loss: 0.0344 - acc: 0.9905 - val_loss: 0.0672 - val_acc: 0.9803\n",
      "Epoch 8/10\n",
      "57000/57000 [==============================] - 6s 114us/step - loss: 0.0278 - acc: 0.9924 - val_loss: 0.0715 - val_acc: 0.9817\n",
      "Epoch 9/10\n",
      "57000/57000 [==============================] - 7s 114us/step - loss: 0.0232 - acc: 0.9944 - val_loss: 0.0681 - val_acc: 0.9813\n",
      "Epoch 10/10\n",
      "57000/57000 [==============================] - 7s 114us/step - loss: 0.0179 - acc: 0.9955 - val_loss: 0.0687 - val_acc: 0.9820\n"
     ]
    },
    {
     "data": {
      "text/plain": [
       "<keras.callbacks.History at 0x7f43c48c07b8>"
      ]
     },
     "execution_count": 12,
     "metadata": {},
     "output_type": "execute_result"
    }
   ],
   "source": [
    "adam = keras.optimizers.Adam()\n",
    "\n",
    "model = Sequential()\n",
    "model.add(Flatten())\n",
    "model.add(Dense(100, input_shape=(1, 28,28), activation='tanh'))\n",
    "# model.add(Dropout(0.2))\n",
    "\n",
    "model.add(Dense(10, activation='sigmoid'))\n",
    "\n",
    "model.compile(loss='categorical_crossentropy',\n",
    "              optimizer=adam,\n",
    "              metrics=['accuracy'])\n",
    "\n",
    "model.fit(X_train, Y_train, validation_split=0.05, batch_size=20, epochs=10, verbose=1)\n",
    "model.evaluate(X_test, Y_test, verbose=0)"
   ]
  },
  {
   "cell_type": "markdown",
   "metadata": {},
   "source": [
    "#### 3. (2 балла) Обучите трёхслойную полносвязную сеть. Какой максимальный результат на тесте вам удалось достичь?"
   ]
  },
  {
   "cell_type": "markdown",
   "metadata": {},
   "source": [
    "### ваша точность на тесте \n",
    "## 0.9798"
   ]
  },
  {
   "cell_type": "code",
   "execution_count": 24,
   "metadata": {
    "scrolled": true
   },
   "outputs": [
    {
     "name": "stdout",
     "output_type": "stream",
     "text": [
      "Train on 57000 samples, validate on 3000 samples\n",
      "Epoch 1/12\n",
      "57000/57000 [==============================] - 13s 237us/step - loss: 0.2342 - acc: 0.9317 - val_loss: 0.1002 - val_acc: 0.9703\n",
      "Epoch 2/12\n",
      "57000/57000 [==============================] - 12s 208us/step - loss: 0.1024 - acc: 0.9690 - val_loss: 0.0729 - val_acc: 0.9803\n",
      "Epoch 3/12\n",
      "57000/57000 [==============================] - 12s 209us/step - loss: 0.0703 - acc: 0.9787 - val_loss: 0.0825 - val_acc: 0.9753\n",
      "Epoch 4/12\n",
      "57000/57000 [==============================] - 12s 212us/step - loss: 0.0519 - acc: 0.9834 - val_loss: 0.0790 - val_acc: 0.9773\n",
      "Epoch 5/12\n",
      "57000/57000 [==============================] - 12s 212us/step - loss: 0.0414 - acc: 0.9868 - val_loss: 0.0712 - val_acc: 0.9767\n",
      "Epoch 6/12\n",
      "57000/57000 [==============================] - 12s 213us/step - loss: 0.0322 - acc: 0.9894 - val_loss: 0.0764 - val_acc: 0.9787\n",
      "Epoch 7/12\n",
      "57000/57000 [==============================] - 12s 211us/step - loss: 0.0275 - acc: 0.9913 - val_loss: 0.0686 - val_acc: 0.9823\n",
      "Epoch 8/12\n",
      "57000/57000 [==============================] - 12s 215us/step - loss: 0.0234 - acc: 0.9925 - val_loss: 0.0712 - val_acc: 0.9780\n",
      "Epoch 9/12\n",
      "57000/57000 [==============================] - 12s 213us/step - loss: 0.0192 - acc: 0.9936 - val_loss: 0.0657 - val_acc: 0.9830\n",
      "Epoch 10/12\n",
      "57000/57000 [==============================] - 12s 214us/step - loss: 0.0175 - acc: 0.9944 - val_loss: 0.1007 - val_acc: 0.9767\n",
      "Epoch 11/12\n",
      "57000/57000 [==============================] - 12s 215us/step - loss: 0.0150 - acc: 0.9950 - val_loss: 0.0840 - val_acc: 0.9813\n",
      "Epoch 12/12\n",
      "57000/57000 [==============================] - 13s 220us/step - loss: 0.0162 - acc: 0.9947 - val_loss: 0.0721 - val_acc: 0.9817\n"
     ]
    },
    {
     "data": {
      "text/plain": [
       "[0.08424683785605011, 0.9798]"
      ]
     },
     "execution_count": 24,
     "metadata": {},
     "output_type": "execute_result"
    }
   ],
   "source": [
    "adam = keras.optimizers.Adam(lr=0.001)\n",
    "\n",
    "model = Sequential()\n",
    "model.add(Flatten())\n",
    "model.add(Dense(200, input_shape=(1, 28,28), activation='tanh'))\n",
    "model.add(Dense(170, activation='tanh'))\n",
    "model.add(Dense(10, activation='sigmoid'))\n",
    "\n",
    "model.compile(loss='categorical_crossentropy',\n",
    "              optimizer=adam,\n",
    "              metrics=['accuracy'])\n",
    "\n",
    "model.fit(X_train, Y_train, validation_split=0.05, batch_size=20, epochs=12, verbose=1)\n",
    "score = model.evaluate(X_test, Y_test, verbose=0)\n",
    "score"
   ]
  },
  {
   "cell_type": "markdown",
   "metadata": {},
   "source": [
    "#### 4. (3 балла) Улучшится ли ваш результат, есть в сеть добавить слои нормализации (dropout, batchnorm  и др.)?"
   ]
  },
  {
   "cell_type": "markdown",
   "metadata": {},
   "source": [
    "### ваш ответ\n",
    "## 0.9815"
   ]
  },
  {
   "cell_type": "code",
   "execution_count": 126,
   "metadata": {
    "scrolled": true
   },
   "outputs": [
    {
     "name": "stdout",
     "output_type": "stream",
     "text": [
      "Train on 48000 samples, validate on 12000 samples\n",
      "Epoch 1/15\n",
      "48000/48000 [==============================] - 22s 461us/step - loss: 0.5225 - acc: 0.8621 - val_loss: 0.1738 - val_acc: 0.9476\n",
      "Epoch 2/15\n",
      "48000/48000 [==============================] - 16s 331us/step - loss: 0.2131 - acc: 0.9343 - val_loss: 0.1186 - val_acc: 0.9649\n",
      "Epoch 3/15\n",
      "48000/48000 [==============================] - 16s 331us/step - loss: 0.1698 - acc: 0.9492 - val_loss: 0.1100 - val_acc: 0.9662\n",
      "Epoch 4/15\n",
      "48000/48000 [==============================] - 16s 324us/step - loss: 0.1396 - acc: 0.9561 - val_loss: 0.0939 - val_acc: 0.9712\n",
      "Epoch 5/15\n",
      "48000/48000 [==============================] - 16s 336us/step - loss: 0.1236 - acc: 0.9611 - val_loss: 0.1003 - val_acc: 0.9713\n",
      "Epoch 6/15\n",
      "48000/48000 [==============================] - 16s 327us/step - loss: 0.1129 - acc: 0.9651 - val_loss: 0.0971 - val_acc: 0.9713\n",
      "Epoch 7/15\n",
      "48000/48000 [==============================] - 15s 316us/step - loss: 0.1037 - acc: 0.9679 - val_loss: 0.0893 - val_acc: 0.9740\n",
      "Epoch 8/15\n",
      "48000/48000 [==============================] - 17s 354us/step - loss: 0.0919 - acc: 0.9714 - val_loss: 0.0847 - val_acc: 0.9752\n",
      "Epoch 9/15\n",
      "48000/48000 [==============================] - 16s 324us/step - loss: 0.0875 - acc: 0.9721 - val_loss: 0.0916 - val_acc: 0.9746\n",
      "Epoch 10/15\n",
      "48000/48000 [==============================] - 15s 322us/step - loss: 0.0826 - acc: 0.9734 - val_loss: 0.0831 - val_acc: 0.9772\n",
      "Epoch 11/15\n",
      "48000/48000 [==============================] - 16s 327us/step - loss: 0.0780 - acc: 0.9750 - val_loss: 0.0852 - val_acc: 0.9766\n",
      "Epoch 12/15\n",
      "48000/48000 [==============================] - 15s 321us/step - loss: 0.0726 - acc: 0.9770 - val_loss: 0.0784 - val_acc: 0.9779\n",
      "Epoch 13/15\n",
      "48000/48000 [==============================] - 17s 348us/step - loss: 0.0701 - acc: 0.9776 - val_loss: 0.0810 - val_acc: 0.9771\n",
      "Epoch 14/15\n",
      "48000/48000 [==============================] - 16s 328us/step - loss: 0.0689 - acc: 0.9776 - val_loss: 0.0900 - val_acc: 0.9765\n",
      "Epoch 15/15\n",
      "48000/48000 [==============================] - 16s 338us/step - loss: 0.0634 - acc: 0.9799 - val_loss: 0.0825 - val_acc: 0.9774\n"
     ]
    },
    {
     "data": {
      "text/plain": [
       "[0.06496458664224483, 0.9815]"
      ]
     },
     "execution_count": 126,
     "metadata": {},
     "output_type": "execute_result"
    }
   ],
   "source": [
    "adam = keras.optimizers.Adam(lr=0.001)\n",
    "\n",
    "model = Sequential()\n",
    "model.add(Flatten())\n",
    "model.add(Dense(240, input_shape=(1, 28,28), activation='tanh'))\n",
    "model.add(Dropout(0.2))\n",
    "model.add(BatchNormalization())\n",
    "model.add(Dense(120, activation='tanh'))\n",
    "model.add(Dropout(0.2))\n",
    "model.add(BatchNormalization())\n",
    "model.add(Dense(10, activation='sigmoid'))\n",
    "\n",
    "model.compile(loss='categorical_crossentropy',\n",
    "              optimizer=adam,\n",
    "              metrics=['accuracy'])\n",
    "\n",
    "model.fit(X_train, Y_train, validation_split=0.2, batch_size=30, epochs=15, verbose=1)\n",
    "score = model.evaluate(X_test, Y_test, verbose=0)\n",
    "score"
   ]
  },
  {
   "cell_type": "markdown",
   "metadata": {},
   "source": [
    "#### 5. (4 баллов) Обучите полносвязную нейронную сеть (без свёрточных слоёв), достигающую лучшего качества на тесте без ограничений на количество слоёв?"
   ]
  },
  {
   "cell_type": "markdown",
   "metadata": {},
   "source": [
    "### ваша точность на тесте \n",
    "## 0.9807"
   ]
  },
  {
   "cell_type": "code",
   "execution_count": 26,
   "metadata": {
    "scrolled": true
   },
   "outputs": [
    {
     "name": "stdout",
     "output_type": "stream",
     "text": [
      "Train on 57000 samples, validate on 3000 samples\n",
      "Epoch 1/12\n",
      "57000/57000 [==============================] - 17s 301us/step - loss: 0.6416 - acc: 0.8295 - val_loss: 0.1158 - val_acc: 0.9670\n",
      "Epoch 2/12\n",
      "57000/57000 [==============================] - 15s 255us/step - loss: 0.2280 - acc: 0.9327 - val_loss: 0.0883 - val_acc: 0.9740\n",
      "Epoch 3/12\n",
      "57000/57000 [==============================] - 14s 252us/step - loss: 0.1734 - acc: 0.9486 - val_loss: 0.0804 - val_acc: 0.9780\n",
      "Epoch 4/12\n",
      "57000/57000 [==============================] - 15s 254us/step - loss: 0.1445 - acc: 0.9572 - val_loss: 0.0686 - val_acc: 0.9800\n",
      "Epoch 5/12\n",
      "57000/57000 [==============================] - 15s 256us/step - loss: 0.1263 - acc: 0.9633 - val_loss: 0.0686 - val_acc: 0.9803\n",
      "Epoch 6/12\n",
      "57000/57000 [==============================] - 15s 256us/step - loss: 0.1132 - acc: 0.9669 - val_loss: 0.0647 - val_acc: 0.9820\n",
      "Epoch 7/12\n",
      "57000/57000 [==============================] - 15s 257us/step - loss: 0.0996 - acc: 0.9702 - val_loss: 0.0619 - val_acc: 0.9820\n",
      "Epoch 8/12\n",
      "57000/57000 [==============================] - 15s 266us/step - loss: 0.0925 - acc: 0.9723 - val_loss: 0.0659 - val_acc: 0.9837\n",
      "Epoch 9/12\n",
      "57000/57000 [==============================] - 15s 264us/step - loss: 0.0861 - acc: 0.9742 - val_loss: 0.0648 - val_acc: 0.9810\n",
      "Epoch 10/12\n",
      "57000/57000 [==============================] - 15s 262us/step - loss: 0.0819 - acc: 0.9748 - val_loss: 0.0611 - val_acc: 0.9833\n",
      "Epoch 11/12\n",
      "57000/57000 [==============================] - 15s 267us/step - loss: 0.0776 - acc: 0.9764 - val_loss: 0.0647 - val_acc: 0.9840\n",
      "Epoch 12/12\n",
      "57000/57000 [==============================] - 15s 260us/step - loss: 0.0707 - acc: 0.9791 - val_loss: 0.0694 - val_acc: 0.9847\n"
     ]
    },
    {
     "data": {
      "text/plain": [
       "[0.06666403451259248, 0.9807]"
      ]
     },
     "execution_count": 26,
     "metadata": {},
     "output_type": "execute_result"
    }
   ],
   "source": [
    "adam = keras.optimizers.Adam(lr=0.001)\n",
    "\n",
    "model = Sequential()\n",
    "model.add(Flatten())\n",
    "model.add(Dense(240, input_shape=(1, 28,28), activation='sigmoid'))\n",
    "model.add(Dropout(0.2))\n",
    "model.add(BatchNormalization())\n",
    "model.add(Dense(120, activation='sigmoid'))\n",
    "model.add(Dropout(0.2))\n",
    "# model.add(BatchNormalization())\n",
    "model.add(Dense(60, activation='sigmoid'))\n",
    "model.add(Dropout(0.2))\n",
    "model.add(BatchNormalization())\n",
    "model.add(Dense(10, activation='sigmoid'))\n",
    "\n",
    "model.compile(loss='categorical_crossentropy',\n",
    "              optimizer=adam,\n",
    "              metrics=['accuracy'])\n",
    "\n",
    "model.fit(X_train, Y_train, validation_split=0.05, batch_size=30, epochs=12, verbose=1)\n",
    "score = model.evaluate(X_test, Y_test, verbose=0)\n",
    "score"
   ]
  },
  {
   "cell_type": "code",
   "execution_count": 28,
   "metadata": {
    "scrolled": true
   },
   "outputs": [
    {
     "name": "stdout",
     "output_type": "stream",
     "text": [
      "Train on 57000 samples, validate on 3000 samples\n",
      "Epoch 1/12\n",
      "57000/57000 [==============================] - 20s 347us/step - loss: 0.4828 - acc: 0.8689 - val_loss: 0.1340 - val_acc: 0.9630\n",
      "Epoch 2/12\n",
      "57000/57000 [==============================] - 17s 300us/step - loss: 0.2694 - acc: 0.9242 - val_loss: 0.1152 - val_acc: 0.9717\n",
      "Epoch 3/12\n",
      "57000/57000 [==============================] - 17s 298us/step - loss: 0.2240 - acc: 0.9374 - val_loss: 0.1034 - val_acc: 0.9730\n",
      "Epoch 4/12\n",
      "57000/57000 [==============================] - 17s 306us/step - loss: 0.2017 - acc: 0.9420 - val_loss: 0.0931 - val_acc: 0.9747\n",
      "Epoch 5/12\n",
      "57000/57000 [==============================] - 18s 309us/step - loss: 0.1831 - acc: 0.9489 - val_loss: 0.0745 - val_acc: 0.9797\n",
      "Epoch 6/12\n",
      "57000/57000 [==============================] - 18s 309us/step - loss: 0.1701 - acc: 0.9522 - val_loss: 0.0806 - val_acc: 0.9807\n",
      "Epoch 7/12\n",
      "57000/57000 [==============================] - 19s 328us/step - loss: 0.1631 - acc: 0.9537 - val_loss: 0.0860 - val_acc: 0.9790\n",
      "Epoch 8/12\n",
      "57000/57000 [==============================] - 18s 321us/step - loss: 0.1497 - acc: 0.9574 - val_loss: 0.0745 - val_acc: 0.9820\n",
      "Epoch 9/12\n",
      "57000/57000 [==============================] - 17s 305us/step - loss: 0.1477 - acc: 0.9585 - val_loss: 0.0712 - val_acc: 0.9820\n",
      "Epoch 10/12\n",
      "57000/57000 [==============================] - 18s 316us/step - loss: 0.1405 - acc: 0.9595 - val_loss: 0.0689 - val_acc: 0.9807\n",
      "Epoch 11/12\n",
      "57000/57000 [==============================] - 18s 320us/step - loss: 0.1438 - acc: 0.9586 - val_loss: 0.0712 - val_acc: 0.9827\n",
      "Epoch 12/12\n",
      "57000/57000 [==============================] - 18s 314us/step - loss: 0.1355 - acc: 0.9608 - val_loss: 0.0752 - val_acc: 0.9830\n"
     ]
    },
    {
     "data": {
      "text/plain": [
       "[0.0998072920974344, 0.9733]"
      ]
     },
     "execution_count": 28,
     "metadata": {},
     "output_type": "execute_result"
    }
   ],
   "source": [
    "# adam = keras.optimizers.Adam(lr=0.001)\n",
    "\n",
    "# model = Sequential()\n",
    "# model.add(Flatten())\n",
    "# model.add(Dense(128, input_shape=(1, 28,28), activation='tanh'))\n",
    "# model.add(Dropout(0.2))\n",
    "# model.add(BatchNormalization())\n",
    "# model.add(Dense(128, activation='tanh'))\n",
    "# model.add(Dropout(0.2))\n",
    "# model.add(Dense(128, activation='tanh'))\n",
    "# model.add(Dropout(0.2))\n",
    "# # model.add(BatchNormalization())\n",
    "# model.add(Dense(60, activation='tanh'))\n",
    "# model.add(Dropout(0.2))\n",
    "# # model.add(BatchNormalization())\n",
    "# model.add(Dense(10, activation='sigmoid'))\n",
    "\n",
    "# model.compile(loss='categorical_crossentropy',\n",
    "#               optimizer=adam,\n",
    "#               metrics=['accuracy'])\n",
    "\n",
    "# model.fit(X_train, Y_train, validation_split=0.05, batch_size=20, epochs=12, verbose=1)\n",
    "# score = model.evaluate(X_test, Y_test, verbose=0)\n",
    "# score"
   ]
  },
  {
   "cell_type": "markdown",
   "metadata": {},
   "source": [
    "#### 6. (3 баллов) Обучите  нейронную сеть с  одним свёрточным слоем,  достигающую лучшего качества на тесте без ограничений на общее количество слоёв? Слой субдискретизации можно использовать в неограниченном количестве."
   ]
  },
  {
   "cell_type": "markdown",
   "metadata": {},
   "source": [
    "### ваша точность на тесте \n",
    "## 0.9867"
   ]
  },
  {
   "cell_type": "code",
   "execution_count": 211,
   "metadata": {
    "scrolled": true
   },
   "outputs": [
    {
     "name": "stdout",
     "output_type": "stream",
     "text": [
      "Train on 54000 samples, validate on 6000 samples\n",
      "Epoch 1/10\n",
      "54000/54000 [==============================] - 70s 1ms/step - loss: 0.3938 - acc: 0.8873 - val_loss: 0.1469 - val_acc: 0.9577\n",
      "Epoch 2/10\n",
      "54000/54000 [==============================] - 63s 1ms/step - loss: 0.1803 - acc: 0.9463 - val_loss: 0.0981 - val_acc: 0.9715\n",
      "Epoch 3/10\n",
      "54000/54000 [==============================] - 61s 1ms/step - loss: 0.1111 - acc: 0.9672 - val_loss: 0.0664 - val_acc: 0.9815\n",
      "Epoch 4/10\n",
      "54000/54000 [==============================] - 62s 1ms/step - loss: 0.0804 - acc: 0.9755 - val_loss: 0.0590 - val_acc: 0.9835\n",
      "Epoch 5/10\n",
      "54000/54000 [==============================] - 61s 1ms/step - loss: 0.0655 - acc: 0.9799 - val_loss: 0.0500 - val_acc: 0.9872\n",
      "Epoch 6/10\n",
      "54000/54000 [==============================] - 63s 1ms/step - loss: 0.0566 - acc: 0.9826 - val_loss: 0.0517 - val_acc: 0.9860\n",
      "Epoch 7/10\n",
      "54000/54000 [==============================] - 62s 1ms/step - loss: 0.0476 - acc: 0.9855 - val_loss: 0.0445 - val_acc: 0.9882\n",
      "Epoch 8/10\n",
      "54000/54000 [==============================] - 63s 1ms/step - loss: 0.0412 - acc: 0.9868 - val_loss: 0.0414 - val_acc: 0.9895\n",
      "Epoch 9/10\n",
      "54000/54000 [==============================] - 63s 1ms/step - loss: 0.0372 - acc: 0.9884 - val_loss: 0.0388 - val_acc: 0.9895\n",
      "Epoch 10/10\n",
      "54000/54000 [==============================] - 64s 1ms/step - loss: 0.0321 - acc: 0.9896 - val_loss: 0.0439 - val_acc: 0.9888\n"
     ]
    },
    {
     "data": {
      "text/plain": [
       "[0.038688818417559376, 0.9867]"
      ]
     },
     "execution_count": 211,
     "metadata": {},
     "output_type": "execute_result"
    }
   ],
   "source": [
    "Momentum = keras.optimizers.SGD(momentum=0.9, nesterov=False)\n",
    "\n",
    "model = Sequential()\n",
    "\n",
    "model.add(Conv2D(input_shape=(1, 28, 28), data_format='channels_first',\n",
    "                 kernel_size = (3,3), filters = 64, activation='relu'))\n",
    "model.add(MaxPooling2D(pool_size = (2,2), strides=(2,2)))\n",
    "model.add(Dropout(0.2))\n",
    "model.add(Flatten())\n",
    "model.add(Dense(120, activation='tanh'))\n",
    "model.add(Dropout(0.2))\n",
    "model.add(Dense(10, activation='sigmoid'))\n",
    "\n",
    "model.compile(loss='categorical_crossentropy',\n",
    "              optimizer=Momentum,\n",
    "              metrics=['accuracy'])\n",
    "\n",
    "model.fit(X_train, Y_train, validation_split=0.1, batch_size=50, epochs=10, verbose=1)\n",
    "score = model.evaluate(X_test, Y_test, verbose=0)\n",
    "score"
   ]
  },
  {
   "cell_type": "markdown",
   "metadata": {},
   "source": [
    "#### 7. (5 баллов) Обучите лучшую нейронную сеть следующими оптимизаторами: SGD, SGD + Momentum, SGD + NAG, AdaGrad, Adadelta, RMSprop, Adam. Какой оптимизатор позволяет достигнуть наибольшего качества на тесте? Какой оптимизатор сходится быстрее?"
   ]
  },
  {
   "cell_type": "code",
   "execution_count": 32,
   "metadata": {},
   "outputs": [],
   "source": [
    "SGD = keras.optimizers.SGD(nesterov=False)\n",
    "Momentum = keras.optimizers.SGD(momentum=0.9, nesterov=False)\n",
    "NAG = keras.optimizers.SGD(nesterov=True)\n",
    "AdaGrad = keras.optimizers.Adagrad()\n",
    "Adadelta = keras.optimizers.Adadelta()\n",
    "RMSprop = keras.optimizers.RMSprop()\n",
    "Adam = keras.optimizers.Adam()   \n",
    "\n",
    "optimizers = [SGD, Momentum, NAG, AdaGrad, Adadelta, RMSprop, Adam]"
   ]
  },
  {
   "cell_type": "code",
   "execution_count": 34,
   "metadata": {},
   "outputs": [
    {
     "data": {
      "image/png": "[encoded data removed]",
      "text/plain": [
       "<Figure size 864x576 with 1 Axes>"
      ]
     },
     "metadata": {
      "needs_background": "light"
     },
     "output_type": "display_data"
    }
   ],
   "source": [
    "plt.figure(figsize=(12,8))\n",
    "\n",
    "scores = []\n",
    "for optim in optimizers:\n",
    "    \n",
    "    model = Sequential()\n",
    "    model.add(Conv2D(input_shape=(1, 28, 28), data_format='channels_first',\n",
    "                     kernel_size = (3,3), filters = 30, activation='tanh'))\n",
    "    model.add(MaxPooling2D(pool_size = (2,2), strides=(2,2)))\n",
    "    model.add(Flatten())\n",
    "    model.add(Dense(120, activation='tanh'))\n",
    "    model.add(Dropout(0.2))\n",
    "    model.add(Dense(10, activation='sigmoid'))\n",
    "\n",
    "    model.compile(loss='categorical_crossentropy',\n",
    "                  optimizer=adam,\n",
    "                  metrics=['accuracy'])\n",
    "\n",
    "    history = model.fit(X_train, Y_train, validation_split=0.1, batch_size=128, epochs=10, verbose=0)\n",
    "    plt.plot(history.history['val_loss'])\n",
    "    score = model.evaluate(X_test, Y_test, verbose=0)\n",
    "    scores.append(score)\n",
    "    \n",
    "plt.gca().legend(['SGD', 'SGD + Momentum', 'SGD + NAG', 'AdaGrad', 'Adadelta', 'RMSprop', 'Adam'])\n",
    "plt.ylabel('loss')\n",
    "plt.xlabel('epoch')\n",
    "plt.show()"
   ]
  },
  {
   "cell_type": "markdown",
   "metadata": {},
   "source": [
    "### видим, что в данном случае быстрее всего сходится RMSprop, однако результаты примерно одинаковы"
   ]
  },
  {
   "cell_type": "markdown",
   "metadata": {},
   "source": [
    "### лучшая модель дает точность \n",
    "## 0.992"
   ]
  },
  {
   "cell_type": "code",
   "execution_count": 39,
   "metadata": {
    "scrolled": false
   },
   "outputs": [
    {
     "name": "stdout",
     "output_type": "stream",
     "text": [
      "Train on 54000 samples, validate on 6000 samples\n",
      "Epoch 1/10\n",
      "54000/54000 [==============================] - 138s 3ms/step - loss: 0.1967 - acc: 0.9500 - val_loss: 0.0499 - val_acc: 0.9860\n",
      "Epoch 2/10\n",
      "54000/54000 [==============================] - 135s 3ms/step - loss: 0.0586 - acc: 0.9842 - val_loss: 0.0503 - val_acc: 0.9853\n",
      "Epoch 3/10\n",
      "54000/54000 [==============================] - 135s 3ms/step - loss: 0.0430 - acc: 0.9881 - val_loss: 0.0372 - val_acc: 0.9898\n",
      "Epoch 4/10\n",
      "54000/54000 [==============================] - 135s 3ms/step - loss: 0.0337 - acc: 0.9906 - val_loss: 0.0328 - val_acc: 0.9900\n",
      "Epoch 5/10\n",
      "54000/54000 [==============================] - 135s 3ms/step - loss: 0.0261 - acc: 0.9927 - val_loss: 0.0341 - val_acc: 0.9902\n",
      "Epoch 6/10\n",
      "54000/54000 [==============================] - 136s 3ms/step - loss: 0.0215 - acc: 0.9938 - val_loss: 0.0314 - val_acc: 0.9912\n",
      "Epoch 7/10\n",
      "54000/54000 [==============================] - 137s 3ms/step - loss: 0.0187 - acc: 0.9948 - val_loss: 0.0342 - val_acc: 0.9905\n",
      "Epoch 8/10\n",
      "54000/54000 [==============================] - 136s 3ms/step - loss: 0.0163 - acc: 0.9955 - val_loss: 0.0346 - val_acc: 0.9903\n",
      "Epoch 9/10\n",
      "54000/54000 [==============================] - 136s 3ms/step - loss: 0.0150 - acc: 0.9956 - val_loss: 0.0313 - val_acc: 0.9920\n",
      "Epoch 10/10\n",
      "54000/54000 [==============================] - 136s 3ms/step - loss: 0.0119 - acc: 0.9965 - val_loss: 0.0334 - val_acc: 0.9915\n"
     ]
    },
    {
     "data": {
      "text/plain": [
       "[0.02799740214999765, 0.992]"
      ]
     },
     "execution_count": 39,
     "metadata": {},
     "output_type": "execute_result"
    },
    {
     "data": {
      "image/png": "[encoded data removed]",
      "text/plain": [
       "<Figure size 432x288 with 1 Axes>"
      ]
     },
     "metadata": {
      "needs_background": "light"
     },
     "output_type": "display_data"
    }
   ],
   "source": [
    "model = Sequential()\n",
    "model.add(Conv2D(input_shape=(1, 28, 28), data_format='channels_first',\n",
    "                 kernel_size = (3,3), filters = 64, activation='relu', padding='same'))\n",
    "model.add(Dropout(0.2))\n",
    "model.add(Conv2D(data_format='channels_first',\n",
    "                 kernel_size = (3,3), filters = 64, activation='relu'))\n",
    "model.add(MaxPooling2D(pool_size = (2,2), strides=(2,2), data_format='channels_first', padding='valid'))\n",
    "model.add(Dropout(0.2))\n",
    "\n",
    "model.add(Flatten())\n",
    "model.add(Dense(60, activation='tanh'))\n",
    "model.add(Dropout(0.2))\n",
    "model.add(Dense(10, activation='sigmoid'))\n",
    "\n",
    "model.compile(loss='categorical_crossentropy',\n",
    "              optimizer=adam,\n",
    "              metrics=['accuracy'])\n",
    "\n",
    "history = model.fit(X_train, Y_train, validation_split=0.1, batch_size=130, epochs=10, verbose=1)\n",
    "plt.plot(history.history['val_acc'])\n",
    "score = model.evaluate(X_test, Y_test, verbose=0)\n",
    "score"
   ]
  },
  {
   "cell_type": "code",
   "execution_count": null,
   "metadata": {},
   "outputs": [],
   "source": []
  }
 ],
 "metadata": {
  "kernelspec": {
   "display_name": "Python 3",
   "language": "python",
   "name": "python3"
  },
  "language_info": {
   "codemirror_mode": {
    "name": "ipython",
    "version": 3
   },
   "file_extension": ".py",
   "mimetype": "text/x-python",
   "name": "python",
   "nbconvert_exporter": "python",
   "pygments_lexer": "ipython3",
   "version": "3.7.3"
  }
 },
 "nbformat": 4,
 "nbformat_minor": 2
}

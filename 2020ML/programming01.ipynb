{
 "cells": [
  {
   "cell_type": "markdown",
   "metadata": {},
   "source": [
    "# Практическое задание №1"
   ]
  },
  {
   "cell_type": "markdown",
   "metadata": {},
   "source": [
    "ФИО: Иванов Иван Иванович\n",
    "\n",
    "вуз: МГУ \n",
    "\n",
    "факультет: механико-математический\n",
    "\n",
    "курс: 3\n",
    "\n",
    "кафедра (если есть): МаТИС\n",
    "\n",
    "научный руководитель (если есть): Иванов И.И."
   ]
  },
  {
   "cell_type": "markdown",
   "metadata": {},
   "source": [
    "### Задача: Оценка качества вина по его характеристикам\n",
    "### Метрика качества: Accuracy"
   ]
  },
  {
   "cell_type": "markdown",
   "metadata": {},
   "source": [
    "#### 1. Считывание данных (2 балла)\n"
   ]
  },
  {
   "cell_type": "code",
   "execution_count": 1,
   "metadata": {},
   "outputs": [],
   "source": [
    "import pandas as pd \n",
    "import numpy as np"
   ]
  },
  {
   "cell_type": "code",
   "execution_count": 2,
   "metadata": {},
   "outputs": [],
   "source": [
    "train = pd.read_csv(\"train.csv\")\n",
    "test = pd.read_csv(\"test.csv\")\n",
    "\n",
    "trainX = train[train.columns[:-1]].values\n",
    "trainY = train[train.columns[-1]].values\n",
    "testX = test[test.columns[:-1]].values\n",
    "testY = test[test.columns[-1]].values"
   ]
  },
  {
   "cell_type": "code",
   "execution_count": 3,
   "metadata": {},
   "outputs": [
    {
     "name": "stdout",
     "output_type": "stream",
     "text": [
      "(1279, 11) (1279,) (320, 11) (320,)\n"
     ]
    }
   ],
   "source": [
    "# ваш код считывания данных\n",
    "\n",
    "\n",
    "print(trainX.shape, trainY.shape, testX.shape, testY.shape)"
   ]
  },
  {
   "cell_type": "code",
   "execution_count": 4,
   "metadata": {},
   "outputs": [
    {
     "name": "stdout",
     "output_type": "stream",
     "text": [
      "(1279, 11) (1279,) (320, 11) (320,)\n"
     ]
    }
   ],
   "source": [
    "# ваш код считывания данных\n",
    "\n",
    "\n",
    "print(trainX.shape, trainY.shape, testX.shape, testY.shape)"
   ]
  },
  {
   "cell_type": "markdown",
   "metadata": {},
   "source": [
    "На данном шаге у вас должны быть готовы данные для обучения первой модели. "
   ]
  },
  {
   "cell_type": "code",
   "execution_count": 5,
   "metadata": {},
   "outputs": [
    {
     "name": "stdout",
     "output_type": "stream",
     "text": [
      "accuracy = 0.53\n"
     ]
    }
   ],
   "source": [
    "from sklearn.neighbors import KNeighborsClassifier\n",
    "from sklearn.metrics import accuracy_score\n",
    "\n",
    "baseline = KNeighborsClassifier(n_neighbors=1)\n",
    "baseline.fit(trainX, trainY)\n",
    "baseline_prediction = baseline.predict(testX)\n",
    "\n",
    "print('accuracy = %.2f' % accuracy_score(testY, baseline_prediction))"
   ]
  },
  {
   "cell_type": "markdown",
   "metadata": {},
   "source": [
    "Можно ли считать этот результат хорошим?\n",
    "Какую точность можно получить используя совсем простые модели:\n",
    "- случайный выбор ответа\n",
    "- константная модель\n",
    "?"
   ]
  },
  {
   "cell_type": "code",
   "execution_count": 6,
   "metadata": {},
   "outputs": [
    {
     "data": {
      "text/plain": [
       "0.409375"
      ]
     },
     "execution_count": 6,
     "metadata": {},
     "output_type": "execute_result"
    }
   ],
   "source": [
    "np.max([(testY==x).mean() for x in np.unique(testY)])"
   ]
  },
  {
   "cell_type": "markdown",
   "metadata": {},
   "source": [
    "### Случайный выбор ответа дает точность около 0.5, максимальная точность константной модели - доля наибольшего класса в тесте (0.41), поэтому результат базовой модели не очень хороший"
   ]
  },
  {
   "cell_type": "markdown",
   "metadata": {},
   "source": [
    "#### 2. Препроцессинг данных (3 балла)"
   ]
  },
  {
   "cell_type": "markdown",
   "metadata": {},
   "source": [
    "Одна из причин, почему метод ближайшего соседа не даёт хороших результатов, это наличие признаков разного масштаба. \n",
    "Поэтому признаки необходимо приводить к одному и тому же диапозону значений.\n",
    "Изучите раздел документации\n",
    "https://scikit-learn.org/stable/modules/preprocessing.html#preprocessing\n",
    "и попробуйте применить к данным все методы из раздела 4.3.1"
   ]
  },
  {
   "cell_type": "code",
   "execution_count": 7,
   "metadata": {},
   "outputs": [],
   "source": [
    "from sklearn import preprocessing"
   ]
  },
  {
   "cell_type": "code",
   "execution_count": 8,
   "metadata": {},
   "outputs": [],
   "source": [
    "# scaled_trainX =  preprocessing.scale(trainX)\n",
    "# scaled_testX =  preprocessing.scale(testX)\n",
    "scaler = preprocessing.MaxAbsScaler()\n",
    "scaled_trainX = scaler.fit_transform(trainX)\n",
    "scaled_testX = scaler.transform(testX)\n",
    "# sc\n",
    "# scaled_trainX =  preprocessing.MaxAbsScaler(trainX)\n",
    "# scaled_trainX = scaled_trainX.reshape((trainX.shape[0],-1))\n",
    "# scaled_testX =  preprocessing.MaxAbsScaler(testX)\n",
    "# scaled_testX = scaled_testX.reshape((trainX.shape[0],-1))"
   ]
  },
  {
   "cell_type": "code",
   "execution_count": 9,
   "metadata": {},
   "outputs": [
    {
     "name": "stdout",
     "output_type": "stream",
     "text": [
      "accuracy = 0.64\n"
     ]
    }
   ],
   "source": [
    "baseline = KNeighborsClassifier(n_neighbors=1)\n",
    "baseline.fit(scaled_trainX, trainY)\n",
    "baseline_prediction = baseline.predict(scaled_testX)\n",
    "\n",
    "print('accuracy = %.2f' % accuracy_score(testY, baseline_prediction))"
   ]
  },
  {
   "cell_type": "markdown",
   "metadata": {},
   "source": [
    "#### 3. Подбор параметров для метода ближайшего соседа (5 баллов)"
   ]
  },
  {
   "cell_type": "markdown",
   "metadata": {},
   "source": [
    "1.Подберите лучшие параметры для метода ближайших соседей использую 5-fold кроссвалидацию.\n",
    "Изучите главы документации:\n",
    "https://scikit-learn.org/stable/modules/cross_validation.html#cross-validation\n",
    "https://scikit-learn.org/stable/modules/grid_search.html#grid-search\n"
   ]
  },
  {
   "cell_type": "code",
   "execution_count": 10,
   "metadata": {},
   "outputs": [],
   "source": [
    "def inv_sq(x):\n",
    "    return 0.1/(x+0.0001)**2"
   ]
  },
  {
   "cell_type": "code",
   "execution_count": 13,
   "metadata": {
    "scrolled": true
   },
   "outputs": [],
   "source": [
    "# from sklearn.model_selection import GridSearchCV\n",
    "\n",
    "# params = {\n",
    "#     'n_neighbors':np.linspace(1,100,100).astype(int),\n",
    "#     'weights':['uniform', 'distance', inv_sq],\n",
    "#     'p':[1,2,3],\n",
    "#     'metric':['braycurtis', 'canberra', 'chebyshev', 'correlation', 'dice', 'hamming', 'jaccard', 'kulsinski', 'mahalanobis', 'minkowski', 'rogerstanimoto', 'russellrao', 'seuclidean', 'sokalmichener', 'sokalsneath', 'sqeuclidean', 'yule']\n",
    "# }\n",
    "# clf = KNeighborsClassifier()\n",
    "# search = GridSearchCV(clf, params, cv=5)\n",
    "# search.fit(trainX, trainY)\n",
    "# print(search.best_params_)\n",
    "# print(search.best_score_)"
   ]
  },
  {
   "cell_type": "code",
   "execution_count": 36,
   "metadata": {},
   "outputs": [],
   "source": [
    "best_params = {'metric': 'canberra', 'n_neighbors': 53, 'p': 1, 'weights': inv_sq}\n",
    "# best_params = search.best_params_"
   ]
  },
  {
   "cell_type": "markdown",
   "metadata": {},
   "source": [
    "После подбора оптимальных параметров обучите модель с этими параметрами на всем обучающей выборке и посмотрите качество на тесте."
   ]
  },
  {
   "cell_type": "code",
   "execution_count": 37,
   "metadata": {},
   "outputs": [
    {
     "name": "stdout",
     "output_type": "stream",
     "text": [
      "accuracy = 0.66250\n"
     ]
    }
   ],
   "source": [
    "clf = KNeighborsClassifier(**best_params)\n",
    "clf.fit(trainX, trainY)\n",
    "print('accuracy = %.5f' % accuracy_score(testY, clf.predict(testX)))"
   ]
  },
  {
   "cell_type": "markdown",
   "metadata": {},
   "source": [
    "#### 4. Линейная регрессия (4 балла)"
   ]
  },
  {
   "cell_type": "markdown",
   "metadata": {},
   "source": [
    "Напишите код функций для нахождения весов линейной регрессии (вспомните формулы из лекции 3), а также для применения этих весов (предсказание).\n",
    "\n",
    "Если эти функции будут правильно реализованы, то в дальнейшем можно будет применять класс MyLinearRegression со стандартным scikit-learn интерфейсом, в котором нас интересуют два метода: fit и predict."
   ]
  },
  {
   "cell_type": "code",
   "execution_count": 16,
   "metadata": {},
   "outputs": [],
   "source": [
    "import numpy as np\n",
    "from numpy.linalg import inv\n",
    "def solve_linear_regression(X, y):\n",
    "\n",
    "    A = np.hstack((np.ones((X.shape[0],1)), X))\n",
    "    W = np.dot(np.dot(inv(np.dot(A.T, A)), A.T), y)\n",
    "    bias = W[0]\n",
    "    weights = W[1:]\n",
    "    \n",
    "    return weights, bias\n",
    "\n",
    "def make_prediction(weights, bias, testX):\n",
    "    \n",
    "    pred = np.dot(testX, weights.T) + bias\n",
    "    return pred\n",
    "    \n",
    "\n",
    "class MyLinearRegression():\n",
    "    def __init__(self,):\n",
    "        self.name = 'LinearRegression'\n",
    "    \n",
    "    def fit(self, X, Y):\n",
    "        self.weights, self.bias = solve_linear_regression(X, Y)\n",
    "#         return self\n",
    "    \n",
    "    def predict(self, X):\n",
    "        return make_prediction(self.weights, self.bias, X)  "
   ]
  },
  {
   "cell_type": "markdown",
   "metadata": {},
   "source": [
    "Протестируйте ваш класс на предложенном датасете"
   ]
  },
  {
   "cell_type": "code",
   "execution_count": 17,
   "metadata": {},
   "outputs": [],
   "source": [
    "scaled_trainX = preprocessing.normalize(trainX)\n",
    "scaled_testX = preprocessing.normalize(testX)"
   ]
  },
  {
   "cell_type": "code",
   "execution_count": 18,
   "metadata": {},
   "outputs": [
    {
     "name": "stdout",
     "output_type": "stream",
     "text": [
      "acc on train: 0.6098514464425332\n",
      "acc on test: 0.553125\n"
     ]
    }
   ],
   "source": [
    "baseline = MyLinearRegression()\n",
    "baseline.fit(scaled_trainX, trainY)\n",
    "\n",
    "baseline_prediction = np.round(baseline.predict(scaled_trainX))\n",
    "print(\"acc on train:\", np.mean(baseline_prediction == trainY))\n",
    "baseline_prediction = np.round(baseline.predict(scaled_testX))\n",
    "print(\"acc on test:\", np.mean(baseline_prediction == testY))"
   ]
  },
  {
   "cell_type": "markdown",
   "metadata": {},
   "source": [
    "Сравните результаты вашего класса и аналогичного из scikit-learn\n",
    "sklearn.linear_model.LinearRegression"
   ]
  },
  {
   "cell_type": "code",
   "execution_count": 19,
   "metadata": {},
   "outputs": [
    {
     "name": "stdout",
     "output_type": "stream",
     "text": [
      "acc on train: 0.6098514464425332\n",
      "acc on test: 0.553125\n"
     ]
    }
   ],
   "source": [
    "from sklearn.linear_model import LinearRegression\n",
    "\n",
    "model = LinearRegression()\n",
    "model.fit(scaled_trainX, trainY)\n",
    "\n",
    "pred = np.round(model.predict(scaled_trainX))\n",
    "print(\"acc on train:\", np.mean(pred == trainY))\n",
    "pred = np.round(model.predict(scaled_testX))\n",
    "print(\"acc on test:\", np.mean(pred == testY))"
   ]
  },
  {
   "cell_type": "markdown",
   "metadata": {},
   "source": [
    "#### 5. Лучшая модель (3 балла )\n"
   ]
  },
  {
   "cell_type": "markdown",
   "metadata": {},
   "source": [
    "Попробуйте улучшить результат на тестовом датасете, используя все пройденные  до 15 марта  (первые 4 лекции) алгоритмы машинного обучения и любые методы препроцессинга и постпроцессинга. Если параметры не дефолтные, то  подбр параметров должен осуществлять путём кросс-валидации без привлечения тестового датасета."
   ]
  },
  {
   "cell_type": "markdown",
   "metadata": {},
   "source": [
    "### Проверим, улучшит ли результат регуляризация"
   ]
  },
  {
   "cell_type": "code",
   "execution_count": 20,
   "metadata": {},
   "outputs": [],
   "source": [
    "# ваш код \n",
    "def solve_regularize_linear_regression(X, y, alpha):\n",
    "    # ваш код\n",
    "    A = np.hstack((np.ones((X.shape[0],1)), X))\n",
    "    W = np.dot(np.dot(inv(np.dot(A.T, A) + alpha * np.eye(X.shape[1]+1)), A.T), y)\n",
    "    bias = W[0]\n",
    "    weights = W[1:]\n",
    "    \n",
    "    return weights, bias\n",
    "\n",
    "def make_prediction(weights, bias, testX):\n",
    "    #ваш код\n",
    "    pred = np.dot(testX, weights.T) + bias\n",
    "    return pred\n",
    "    \n",
    "\n",
    "class BestLinearRegression():\n",
    "    def __init__(self,):\n",
    "        self.name = 'LinearRegression'\n",
    "    \n",
    "    def fit(self, X, Y, alpha=0):\n",
    "        self.weights, self.bias = solve_regularize_linear_regression(X, Y, alpha)\n",
    "#         print(self.weights)\n",
    "#         return self\n",
    "    \n",
    "    def predict(self, X):\n",
    "        return make_prediction(self.weights, self.bias, X)  "
   ]
  },
  {
   "cell_type": "code",
   "execution_count": 21,
   "metadata": {},
   "outputs": [],
   "source": [
    "# acc = {}\n",
    "# for alpha in np.linspace(0,5,5):\n",
    "    \n",
    "#     baseline = BestLinearRegression()\n",
    "#     baseline.fit(scaled_trainX, trainY, alpha)\n",
    "\n",
    "#     baseline_prediction = np.round(baseline.predict(scaled_testX))\n",
    "#     print(alpha, \"acc on test:\", np.mean(baseline_prediction == testY))\n",
    "#     acc[alpha] = np.mean(baseline_prediction == testY)"
   ]
  },
  {
   "cell_type": "code",
   "execution_count": 22,
   "metadata": {},
   "outputs": [],
   "source": [
    "from sklearn.linear_model import ElasticNet"
   ]
  },
  {
   "cell_type": "code",
   "execution_count": 23,
   "metadata": {},
   "outputs": [
    {
     "name": "stdout",
     "output_type": "stream",
     "text": [
      "acc on train: 0.3964034401876466\n",
      "acc on test: 0.409375\n"
     ]
    }
   ],
   "source": [
    "baseline = ElasticNet()\n",
    "baseline.fit(scaled_trainX, trainY)\n",
    "\n",
    "baseline_prediction = np.round(baseline.predict(scaled_trainX))\n",
    "print(\"acc on train:\", np.mean(baseline_prediction == trainY))\n",
    "baseline_prediction = np.round(baseline.predict(scaled_testX))\n",
    "print(\"acc on test:\", np.mean(baseline_prediction == testY))"
   ]
  },
  {
   "cell_type": "markdown",
   "metadata": {},
   "source": [
    "#### Регуляризация не эффективна"
   ]
  },
  {
   "cell_type": "markdown",
   "metadata": {},
   "source": [
    "### Посмотрим на корреляциии признаков "
   ]
  },
  {
   "cell_type": "code",
   "execution_count": 24,
   "metadata": {},
   "outputs": [
    {
     "data": {
      "text/plain": [
       "<matplotlib.axes._subplots.AxesSubplot at 0x7f0b87884748>"
      ]
     },
     "execution_count": 24,
     "metadata": {},
     "output_type": "execute_result"
    },
    {
     "data": {
      "image/png": "[encoded data removed]",
      "text/plain": [
       "<Figure size 720x576 with 2 Axes>"
      ]
     },
     "metadata": {
      "needs_background": "light"
     },
     "output_type": "display_data"
    }
   ],
   "source": [
    "import seaborn as sns\n",
    "from matplotlib import pyplot as plt\n",
    "\n",
    "f, ax = plt.subplots(figsize=(10, 8))\n",
    "corr = train.corr()\n",
    "sns.heatmap(corr, mask=np.zeros_like(corr, dtype=np.bool), cmap=sns.diverging_palette(220, 10, as_cmap=True),\n",
    "            square=True, ax=ax)"
   ]
  },
  {
   "cell_type": "markdown",
   "metadata": {},
   "source": [
    "### удалим признаки с наименьшим вкладом в целевую переменную"
   ]
  },
  {
   "cell_type": "code",
   "execution_count": 25,
   "metadata": {},
   "outputs": [],
   "source": [
    "train_new = train.drop(['fixed.acidity', 'citric.acid'] , axis=1)\n",
    "test_new = test.drop(['fixed.acidity', 'citric.acid'] , axis=1)"
   ]
  },
  {
   "cell_type": "code",
   "execution_count": 26,
   "metadata": {},
   "outputs": [],
   "source": [
    "trainX = train_new[train_new.columns[:-1]].values\n",
    "testX = test_new[test_new.columns[:-1]].values\n",
    "\n",
    "scaled_trainX = preprocessing.normalize(trainX)\n",
    "scaled_testX = preprocessing.normalize(testX)"
   ]
  },
  {
   "cell_type": "code",
   "execution_count": 30,
   "metadata": {},
   "outputs": [
    {
     "name": "stdout",
     "output_type": "stream",
     "text": [
      "Регрессия:\n",
      "acc on train: 0.6121970289288506\n",
      "acc on test: 0.571875\n",
      "KNN\n",
      "accuracy = 0.66250\n"
     ]
    }
   ],
   "source": [
    "baseline = BestLinearRegression()\n",
    "baseline.fit(scaled_trainX, trainY, 0)\n",
    "\n",
    "baseline_prediction = np.round(baseline.predict(scaled_trainX))\n",
    "print(\"Регрессия:\")\n",
    "print(\"acc on train:\", np.mean(baseline_prediction == trainY))\n",
    "baseline_prediction = np.round(baseline.predict(scaled_testX))\n",
    "print(\"acc on test:\", np.mean(baseline_prediction == testY))\n",
    "\n",
    "clf = KNeighborsClassifier(**best_params)\n",
    "clf.fit(trainX, trainY)\n",
    "print(\"KNN\")\n",
    "print('accuracy = %.5f' % accuracy_score(testY, clf.predict(testX)))"
   ]
  }
 ],
 "metadata": {
  "kernelspec": {
   "display_name": "Python 3",
   "language": "python",
   "name": "python3"
  },
  "language_info": {
   "codemirror_mode": {
    "name": "ipython",
    "version": 3
   },
   "file_extension": ".py",
   "mimetype": "text/x-python",
   "name": "python",
   "nbconvert_exporter": "python",
   "pygments_lexer": "ipython3",
   "version": "3.7.3"
  }
 },
 "nbformat": 4,
 "nbformat_minor": 2
}

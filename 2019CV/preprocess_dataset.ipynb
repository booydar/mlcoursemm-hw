{
 "cells": [
  {
   "cell_type": "code",
   "execution_count": 1,
   "metadata": {},
   "outputs": [],
   "source": [
    "import numpy as np\n",
    "import pandas as pd\n",
    "import os\n",
    "from PIL import Image"
   ]
  },
  {
   "cell_type": "code",
   "execution_count": 2,
   "metadata": {},
   "outputs": [
    {
     "data": {
      "text/html": [
       "<div>\n",
       "<style scoped>\n",
       "    .dataframe tbody tr th:only-of-type {\n",
       "        vertical-align: middle;\n",
       "    }\n",
       "\n",
       "    .dataframe tbody tr th {\n",
       "        vertical-align: top;\n",
       "    }\n",
       "\n",
       "    .dataframe thead th {\n",
       "        text-align: right;\n",
       "    }\n",
       "</style>\n",
       "<table border=\"1\" class=\"dataframe\">\n",
       "  <thead>\n",
       "    <tr style=\"text-align: right;\">\n",
       "      <th></th>\n",
       "      <th>label</th>\n",
       "    </tr>\n",
       "    <tr>\n",
       "      <th>image</th>\n",
       "      <th></th>\n",
       "    </tr>\n",
       "  </thead>\n",
       "  <tbody>\n",
       "    <tr>\n",
       "      <td>000000.jpg</td>\n",
       "      <td>188</td>\n",
       "    </tr>\n",
       "    <tr>\n",
       "      <td>000001.jpg</td>\n",
       "      <td>85</td>\n",
       "    </tr>\n",
       "    <tr>\n",
       "      <td>000002.jpg</td>\n",
       "      <td>101</td>\n",
       "    </tr>\n",
       "    <tr>\n",
       "      <td>000003.jpg</td>\n",
       "      <td>57</td>\n",
       "    </tr>\n",
       "    <tr>\n",
       "      <td>000004.jpg</td>\n",
       "      <td>31</td>\n",
       "    </tr>\n",
       "  </tbody>\n",
       "</table>\n",
       "</div>"
      ],
      "text/plain": [
       "            label\n",
       "image            \n",
       "000000.jpg    188\n",
       "000001.jpg     85\n",
       "000002.jpg    101\n",
       "000003.jpg     57\n",
       "000004.jpg     31"
      ]
     },
     "execution_count": 2,
     "metadata": {},
     "output_type": "execute_result"
    }
   ],
   "source": [
    "labels = pd.read_csv('train.csv', index_col='image')\n",
    "labels.head()"
   ]
  },
  {
   "cell_type": "markdown",
   "metadata": {},
   "source": [
    "### Разделяем на папки с train и validation, дополняя картинку до квадрата и приводя к (224,224)\n"
   ]
  },
  {
   "cell_type": "code",
   "execution_count": null,
   "metadata": {},
   "outputs": [],
   "source": [
    "validation_size = 1000\n",
    "\n",
    "for (_, _, filenames_test) in os.walk(\"train/train\"):\n",
    "    pass\n",
    "\n",
    "for fn in filenames_test[:validation_size]:\n",
    "    img = Image.open(\"train/train/\" + fn)\n",
    "    new_size = (np.max(img.size), np.max(img.size))\n",
    "#     new_im = Image.new(\"RGB\", new_size)\n",
    "#     new_im.paste(img, ((new_size[0]-img.size[0])//2,\n",
    "#                       (new_size[1]-img.size[1])//2))\n",
    "    new_im=img\n",
    "    img = new_im.resize((224, 224))\n",
    "    if(len(np.array(img).shape)!= 3):\n",
    "        rgbimg = Image.new(\"RGB\", img.size)\n",
    "        rgbimg.paste(img)\n",
    "        img = rgbimg\n",
    "    \n",
    "    lab = labels.loc[fn].label\n",
    "    try:\n",
    "        img.save(\"classified/validation/\" + str(lab).zfill(4) + '/' + fn)\n",
    "    except FileNotFoundError:\n",
    "        os.mkdir(\"classified/validation/\" + str(lab).zfill(4) + '/')\n",
    "        img.save(\"classified/validation/\" + str(lab).zfill(4) + '/' + fn)\n",
    "\n",
    "\n",
    "\n",
    "for fn in filenames_test[validation_size:]:\n",
    "    img = Image.open(\"train/train/\" + fn)\n",
    "    new_size = (np.max(img.size), np.max(img.size))\n",
    "#     new_im = Image.new(\"RGB\", new_size)\n",
    "#     new_im.paste(img, ((new_size[0]-img.size[0])//2,\n",
    "#                       (new_size[1]-img.size[1])//2))\n",
    "    new_im=img\n",
    "    img = new_im.resize((224, 224))\n",
    "    if(len(np.array(img).shape)!= 3):\n",
    "        rgbimg = Image.new(\"RGB\", img.size)\n",
    "        rgbimg.paste(img)\n",
    "        img = rgbimg\n",
    "    \n",
    "    lab = labels.loc[fn].label\n",
    "    try:\n",
    "        img.save(\"classified/train/\" + str(lab).zfill(4) + '/' + fn)\n",
    "    except FileNotFoundError:\n",
    "        os.mkdir(\"classified/train/\" + str(lab).zfill(4) + '/')\n",
    "        img.save(\"classified/train/\" + str(lab).zfill(4) + '/' + fn)"
   ]
  },
  {
   "cell_type": "code",
   "execution_count": 5,
   "metadata": {},
   "outputs": [],
   "source": [
    "# os.mkdir(\"classified/validation/0015\")\n",
    "# os.mkdir(\"classified/validation/0038\")"
   ]
  }
 ],
 "metadata": {
  "kernelspec": {
   "display_name": "Python 3",
   "language": "python",
   "name": "python3"
  },
  "language_info": {
   "codemirror_mode": {
    "name": "ipython",
    "version": 3
   },
   "file_extension": ".py",
   "mimetype": "text/x-python",
   "name": "python",
   "nbconvert_exporter": "python",
   "pygments_lexer": "ipython3",
   "version": "3.7.3"
  }
 },
 "nbformat": 4,
 "nbformat_minor": 2
}
